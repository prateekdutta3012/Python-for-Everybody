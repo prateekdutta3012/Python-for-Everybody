{
  "nbformat": 4,
  "nbformat_minor": 0,
  "metadata": {
    "colab": {
      "name": "Python for Everybody.ipynb",
      "provenance": []
    },
    "kernelspec": {
      "name": "python3",
      "display_name": "Python 3"
    },
    "language_info": {
      "name": "python"
    }
  },
  "cells": [
    {
      "cell_type": "code",
      "execution_count": null,
      "metadata": {
        "colab": {
          "base_uri": "https://localhost:8080/"
        },
        "id": "tH_CeU5ESYWy",
        "outputId": "852da96c-a16f-4602-b7b5-9376b3257a97"
      },
      "outputs": [
        {
          "output_type": "stream",
          "name": "stdout",
          "text": [
            "This is a sample program\n"
          ]
        }
      ],
      "source": [
        "print(\"This is a sample program\")"
      ]
    },
    {
      "cell_type": "code",
      "source": [
        "a=5\n",
        "a=a+2\n",
        "print(a)"
      ],
      "metadata": {
        "colab": {
          "base_uri": "https://localhost:8080/"
        },
        "id": "z121TJQGTSe4",
        "outputId": "b09cdd39-4755-49f0-86e5-6950f2f5e26c"
      },
      "execution_count": null,
      "outputs": [
        {
          "output_type": "stream",
          "name": "stdout",
          "text": [
            "7\n"
          ]
        }
      ]
    },
    {
      "cell_type": "markdown",
      "source": [
        "while loop"
      ],
      "metadata": {
        "id": "YyPH1d6AXSuj"
      }
    },
    {
      "cell_type": "code",
      "source": [
        "x=8\n",
        "while x>0:\n",
        "  x=x-1\n",
        "  print(x)\n",
        "\n",
        "print(\"Endoff\")"
      ],
      "metadata": {
        "colab": {
          "base_uri": "https://localhost:8080/"
        },
        "id": "4EKgOuc1XQBF",
        "outputId": "2b08ea58-e558-4843-b753-e843c2424b46"
      },
      "execution_count": null,
      "outputs": [
        {
          "output_type": "stream",
          "name": "stdout",
          "text": [
            "7\n",
            "6\n",
            "5\n",
            "4\n",
            "3\n",
            "2\n",
            "1\n",
            "0\n",
            "Endoff\n"
          ]
        }
      ]
    },
    {
      "cell_type": "code",
      "source": [
        "a=5\n",
        "b=8\n",
        "c=a*b\n",
        "print(c)"
      ],
      "metadata": {
        "colab": {
          "base_uri": "https://localhost:8080/"
        },
        "id": "J-8x8WTXa8xl",
        "outputId": "798d46ef-725a-4e98-baf9-9b2eac5f7a14"
      },
      "execution_count": null,
      "outputs": [
        {
          "output_type": "stream",
          "name": "stdout",
          "text": [
            "40\n"
          ]
        }
      ]
    },
    {
      "cell_type": "code",
      "source": [
        "print(\"Welcome to Policy premium System\")\n",
        "a= int(input(\"Total Premium Amount (in Rupees):\"))\n",
        "b= int(input(\"Duration of premium (in year):\"))\n",
        "c= a//b\n",
        "print(\"Your yearly premium amount is\",c)\n",
        "print(\"Your monthly premium amount is\",c//12)"
      ],
      "metadata": {
        "colab": {
          "base_uri": "https://localhost:8080/"
        },
        "id": "hGrRY9OpXl-C",
        "outputId": "4bb145a5-6c13-4776-c7df-d5ca5b000d0a"
      },
      "execution_count": null,
      "outputs": [
        {
          "output_type": "stream",
          "name": "stdout",
          "text": [
            "Welcome to Policy premium System\n",
            "Total Premium Amount (in Rupees):500000\n",
            "Duration of premium (in year):5\n",
            "Your yearly premium amount is 100000\n",
            "Your monthly premium amount is 8333\n"
          ]
        }
      ]
    },
    {
      "cell_type": "code",
      "source": [
        "print(\"Welcome to Policy premium System\")\n",
        "a= int(input(\"Total Premium Amount (in Rupees):\"))\n",
        "b= int(input(\"Duration of premium (in year):\"))\n",
        "c= a//b\n",
        "print(\"Your yearly premium amount is\",c)\n",
        "print(\"Your monthly premium amount is\",c//12)"
      ],
      "metadata": {
        "colab": {
          "base_uri": "https://localhost:8080/"
        },
        "id": "DXppMJgvYnzN",
        "outputId": "8e431f06-33a6-4423-d70d-e5e6b75ec12b"
      },
      "execution_count": null,
      "outputs": [
        {
          "output_type": "stream",
          "name": "stdout",
          "text": [
            "Welcome to Policy premium System\n",
            "Total Premium Amount (in Rupees):60000\n",
            "Duration of premium (in year):5\n",
            "Your yearly premium amount is 12000\n",
            "Your monthly premium amount is 1000\n"
          ]
        }
      ]
    },
    {
      "cell_type": "code",
      "source": [
        "a= int(input(\"Enter Monthly Premium Amount (in Rupees):\"))\n",
        "b= int(input(\"Enter Duration of premium (in year):\"))\n",
        "c= a*12\n",
        "d= c*b\n",
        "print(\"Your yearly premium amount is\",c)\n",
        "print(\"Your Total premium amount is\",d)"
      ],
      "metadata": {
        "colab": {
          "base_uri": "https://localhost:8080/"
        },
        "id": "9B-hgHduhBtA",
        "outputId": "8fca24eb-369d-419a-a802-16b97c7f9cb5"
      },
      "execution_count": null,
      "outputs": [
        {
          "output_type": "stream",
          "name": "stdout",
          "text": [
            "Enter Monthly Premium Amount (in Rupees):7200\n",
            "Enter Duration of premium (in year):10\n",
            "Your yearly premium amount is 86400\n",
            "Your Total premium amount is 864000\n"
          ]
        }
      ]
    },
    {
      "cell_type": "code",
      "source": [
        "x=25\n",
        "y=x%4\n",
        "print(y)"
      ],
      "metadata": {
        "id": "lwROY3MFjz0e",
        "colab": {
          "base_uri": "https://localhost:8080/"
        },
        "outputId": "24ea8f93-9436-4004-f23a-862fec38f857"
      },
      "execution_count": null,
      "outputs": [
        {
          "output_type": "stream",
          "name": "stdout",
          "text": [
            "1\n"
          ]
        }
      ]
    },
    {
      "cell_type": "code",
      "source": [
        "x=4+6**2/3*5\n",
        "print(x)"
      ],
      "metadata": {
        "colab": {
          "base_uri": "https://localhost:8080/"
        },
        "id": "tL29FgSZU5pA",
        "outputId": "65f17116-b1cc-4f90-da63-5e3f03eb0742"
      },
      "execution_count": null,
      "outputs": [
        {
          "output_type": "stream",
          "name": "stdout",
          "text": [
            "64.0\n"
          ]
        }
      ]
    },
    {
      "cell_type": "code",
      "source": [
        "x= 'Myself' +' '+ 'Prateek Dutta' +' '+ 'Graduate Data Science Trainee' + ' '+ 'at Konverge.AI Pvt. Ltd.'\n",
        "print(x)\n",
        "type(x)"
      ],
      "metadata": {
        "colab": {
          "base_uri": "https://localhost:8080/"
        },
        "id": "ZZxTmapUXFgI",
        "outputId": "d179f788-5949-4453-a2fc-16de9e3e65eb"
      },
      "execution_count": null,
      "outputs": [
        {
          "output_type": "stream",
          "name": "stdout",
          "text": [
            "Myself Prateek Dutta Graduate Data Science Trainee at Konverge.AI Pvt. Ltd.\n"
          ]
        },
        {
          "output_type": "execute_result",
          "data": {
            "text/plain": [
              "str"
            ]
          },
          "metadata": {},
          "execution_count": 8
        }
      ]
    },
    {
      "cell_type": "code",
      "source": [
        "a=int(input('Enter the floor:'))\n",
        "b=a+1\n",
        "print(\"you are in Floor\",b)"
      ],
      "metadata": {
        "colab": {
          "base_uri": "https://localhost:8080/"
        },
        "id": "kn58Mc4tYF4d",
        "outputId": "4a7b267c-ad18-4d5c-c241-e2219c902d54"
      },
      "execution_count": null,
      "outputs": [
        {
          "output_type": "stream",
          "name": "stdout",
          "text": [
            "Enter the floor:1\n",
            "you are in Floor 2\n"
          ]
        }
      ]
    },
    {
      "cell_type": "code",
      "source": [
        "a= int(input(\"Enter your Yearly Salary:\"))\n",
        "if a<500000:\n",
        "  print(\"You are not required to pay tax\")\n",
        "\n",
        "else:\n",
        "  print(\"You need to pay tax as per the rule\")"
      ],
      "metadata": {
        "colab": {
          "base_uri": "https://localhost:8080/"
        },
        "id": "Bqnwh6KrZxxu",
        "outputId": "372bc36f-a791-4085-bc7c-af8dd5ee7a23"
      },
      "execution_count": null,
      "outputs": [
        {
          "output_type": "stream",
          "name": "stdout",
          "text": [
            "Enter your Yearly Salary:425000\n",
            "You are not required to pay tax\n"
          ]
        }
      ]
    },
    {
      "cell_type": "code",
      "source": [
        "def alpha():\n",
        "  print(\"Prateek\")\n",
        "  print(\"Dutta\")\n",
        "alpha() #invoke the function\n",
        "print(\"Hello!\")\n",
        "alpha()"
      ],
      "metadata": {
        "colab": {
          "base_uri": "https://localhost:8080/"
        },
        "id": "A2U3m_IQa9mj",
        "outputId": "8b81d0fd-fcf3-4ebc-e75a-af4670a0979c"
      },
      "execution_count": null,
      "outputs": [
        {
          "output_type": "stream",
          "name": "stdout",
          "text": [
            "Prateek\n",
            "Dutta\n",
            "Hello!\n",
            "Prateek\n",
            "Dutta\n"
          ]
        }
      ]
    },
    {
      "cell_type": "code",
      "source": [
        "def greet(lang):\n",
        "  if lang=='es':\n",
        "    print(\"Hola\")\n",
        "  elif lang=='fr':\n",
        "    print(\"banjour\")\n",
        "  else:\n",
        "    print(\"Hello\")\n",
        "\n",
        "greet(\"en\")"
      ],
      "metadata": {
        "colab": {
          "base_uri": "https://localhost:8080/"
        },
        "id": "TOCp4HMkeXVQ",
        "outputId": "665f7976-a254-45da-e7e6-7ea48fe8b8df"
      },
      "execution_count": null,
      "outputs": [
        {
          "output_type": "stream",
          "name": "stdout",
          "text": [
            "Hello\n"
          ]
        }
      ]
    },
    {
      "cell_type": "code",
      "source": [
        "def greet():\n",
        "  return\"Hello\"\n",
        "\n",
        "print(greet(),'Prateek')\n",
        "print(greet(),'Ayush')"
      ],
      "metadata": {
        "colab": {
          "base_uri": "https://localhost:8080/"
        },
        "id": "NB-eiYaEgPEv",
        "outputId": "b07a2601-5dac-4433-9b75-3e22b7c8ba67"
      },
      "execution_count": null,
      "outputs": [
        {
          "output_type": "stream",
          "name": "stdout",
          "text": [
            "Hello Prateek\n",
            "Hello Ayush\n"
          ]
        }
      ]
    },
    {
      "cell_type": "code",
      "source": [
        "def add(a,b):\n",
        "  addition=a+b\n",
        "  return addition\n",
        "x= add(6,4)\n",
        "print(x)"
      ],
      "metadata": {
        "colab": {
          "base_uri": "https://localhost:8080/"
        },
        "id": "cGGlMYR_iEiv",
        "outputId": "92307a16-e5c8-441e-c64b-46c26b5a302f"
      },
      "execution_count": null,
      "outputs": [
        {
          "output_type": "stream",
          "name": "stdout",
          "text": [
            "10\n"
          ]
        }
      ]
    },
    {
      "cell_type": "markdown",
      "source": [
        "strings\n"
      ],
      "metadata": {
        "id": "HS76kkAbtl0o"
      }
    },
    {
      "cell_type": "code",
      "source": [
        "chocolate = 'Melody'\n",
        "letter = chocolate[4]\n",
        "print(letter)"
      ],
      "metadata": {
        "id": "FH-nQLI0jD6b",
        "colab": {
          "base_uri": "https://localhost:8080/"
        },
        "outputId": "1dde6910-f69e-4027-fb13-716d54a4a680"
      },
      "execution_count": null,
      "outputs": [
        {
          "output_type": "stream",
          "name": "stdout",
          "text": [
            "d\n"
          ]
        }
      ]
    },
    {
      "cell_type": "code",
      "source": [
        "chocolate = 'Melody'\n",
        "print(len(chocolate))"
      ],
      "metadata": {
        "colab": {
          "base_uri": "https://localhost:8080/"
        },
        "id": "ZAwUmuSvts9S",
        "outputId": "657b1900-3097-4617-96ea-6e360e19b86d"
      },
      "execution_count": null,
      "outputs": [
        {
          "output_type": "stream",
          "name": "stdout",
          "text": [
            "6\n"
          ]
        }
      ]
    },
    {
      "cell_type": "code",
      "source": [
        "chocolate='Melody'\n",
        "for letter in chocolate:\n",
        "  print(letter)"
      ],
      "metadata": {
        "colab": {
          "base_uri": "https://localhost:8080/"
        },
        "id": "wQPkDHN9vF9F",
        "outputId": "7b0002a9-6d0c-4a8b-d18d-35ed94e78c0a"
      },
      "execution_count": null,
      "outputs": [
        {
          "output_type": "stream",
          "name": "stdout",
          "text": [
            "M\n",
            "e\n",
            "l\n",
            "o\n",
            "d\n",
            "y\n"
          ]
        }
      ]
    },
    {
      "cell_type": "code",
      "source": [
        "chocolate='Melody'\n",
        "index=0\n",
        "while index<len(chocolate):\n",
        "  letter= chocolate[index]\n",
        "  print(index,letter)\n",
        "  index=index+1"
      ],
      "metadata": {
        "colab": {
          "base_uri": "https://localhost:8080/"
        },
        "id": "4IZjcAMhuBzm",
        "outputId": "5659c01e-7042-42fa-e1ef-10ace8fc8da9"
      },
      "execution_count": null,
      "outputs": [
        {
          "output_type": "stream",
          "name": "stdout",
          "text": [
            "0 M\n",
            "1 e\n",
            "2 l\n",
            "3 o\n",
            "4 d\n",
            "5 y\n"
          ]
        }
      ]
    },
    {
      "cell_type": "code",
      "source": [
        "chocolate='Kacha Mango Bite'\n",
        "count=0\n",
        "for letter in chocolate:\n",
        "  if letter=='a':\n",
        "    count=count+1\n",
        "print(count)"
      ],
      "metadata": {
        "colab": {
          "base_uri": "https://localhost:8080/"
        },
        "id": "QTMC-sjbvVhh",
        "outputId": "fcd7f2c3-112b-46fe-fd91-634441d427c1"
      },
      "execution_count": null,
      "outputs": [
        {
          "output_type": "stream",
          "name": "stdout",
          "text": [
            "3\n"
          ]
        }
      ]
    },
    {
      "cell_type": "code",
      "source": [
        "x='PythonisaProgramminglanguage'\n",
        "print(x[3:7])"
      ],
      "metadata": {
        "colab": {
          "base_uri": "https://localhost:8080/"
        },
        "id": "L7wLD_uAwNCV",
        "outputId": "d4c3c05e-12b9-49f7-f76a-63899bc56897"
      },
      "execution_count": null,
      "outputs": [
        {
          "output_type": "stream",
          "name": "stdout",
          "text": [
            "honi\n"
          ]
        }
      ]
    },
    {
      "cell_type": "code",
      "source": [
        "friend= ['Ayush', 'Arup', 'Krashank', 'Deep']\n",
        "for friends in friend:\n",
        "  print(\"Happy Independence Day\", friends)\n",
        "print('Done')"
      ],
      "metadata": {
        "colab": {
          "base_uri": "https://localhost:8080/"
        },
        "id": "-UDK9Efwxj9C",
        "outputId": "9540b274-2288-43b6-aa65-504bd1a9b1ac"
      },
      "execution_count": null,
      "outputs": [
        {
          "output_type": "stream",
          "name": "stdout",
          "text": [
            "Happy Independence Day Ayush\n",
            "Happy Independence Day Arup\n",
            "Happy Independence Day Krashank\n",
            "Happy Independence Day Deep\n",
            "Done\n"
          ]
        }
      ]
    },
    {
      "cell_type": "code",
      "source": [
        "total=0\n",
        "count=0\n",
        "while True:\n",
        "  x=input(\"Enter Number:\")\n",
        "  if x=='Done': break\n",
        "  value=float(x)\n",
        "  total=total+value\n",
        "  count=count+1\n",
        "average=total/count\n",
        "print(\"Average of the number:\",average)\n"
      ],
      "metadata": {
        "colab": {
          "base_uri": "https://localhost:8080/"
        },
        "id": "OCtHwxk3zNbf",
        "outputId": "cf792da0-eeec-403e-d7df-9b7a84fd86da"
      },
      "execution_count": null,
      "outputs": [
        {
          "output_type": "stream",
          "name": "stdout",
          "text": [
            "Enter Number:5\n",
            "Enter Number:6\n",
            "Enter Number:7\n",
            "Enter Number:Done\n",
            "Average of the number: 6.0\n"
          ]
        }
      ]
    },
    {
      "cell_type": "markdown",
      "source": [
        "Dictionary"
      ],
      "metadata": {
        "id": "PtqPjXln4x8Y"
      }
    },
    {
      "cell_type": "code",
      "source": [
        "book=dict()\n",
        "book['Flemingo']=10\n",
        "book['william']= 11\n",
        "book['A Common Man Succes']=12\n",
        "print(book)"
      ],
      "metadata": {
        "colab": {
          "base_uri": "https://localhost:8080/"
        },
        "id": "C2YqbOpW3Azf",
        "outputId": "7a0ae402-ae3b-4b21-f1ca-08b3e40cc786"
      },
      "execution_count": null,
      "outputs": [
        {
          "output_type": "stream",
          "name": "stdout",
          "text": [
            "{'Flemingo': 10, 'william': 11, 'A Common Man Succes': 12}\n"
          ]
        }
      ]
    },
    {
      "cell_type": "code",
      "source": [
        "sentence= 'My College Registration ID:2019AAIE1111004, My dept.:AI, College area pin:440016'\n",
        "x= sentence.find(':')\n",
        "print(x)"
      ],
      "metadata": {
        "id": "38W6OMEo4vL5",
        "colab": {
          "base_uri": "https://localhost:8080/"
        },
        "outputId": "1782dfa9-520f-4c58-8c9d-baace2e9749f"
      },
      "execution_count": 1,
      "outputs": [
        {
          "output_type": "stream",
          "name": "stdout",
          "text": [
            "26\n"
          ]
        }
      ]
    },
    {
      "cell_type": "code",
      "source": [
        "import urllib.request, urllib.parse, urllib.error\n",
        "x=urllib.request.urlopen('https://data.pr4e.org/authors.txt')\n",
        "for line in x:\n",
        "  print(line.decode().strip())"
      ],
      "metadata": {
        "colab": {
          "base_uri": "https://localhost:8080/"
        },
        "id": "52fZvzpJCaju",
        "outputId": "f4bd121b-18cc-445a-c481-8eb5de3a7124"
      },
      "execution_count": 2,
      "outputs": [
        {
          "output_type": "stream",
          "name": "stdout",
          "text": [
            "English,Charles Severance\n",
            "English,Sue Blumenberg\n",
            "English,Elloitt Hauser\n",
            "Spanish,Fernando Tardío Muñiz\n",
            "Korean,Victor (Kwangchun) Lee (이광춘)\n",
            "\n"
          ]
        }
      ]
    },
    {
      "cell_type": "code",
      "source": [
        "import urllib.request, urllib.parse, urllib.error\n",
        "x=urllib.request.urlopen('https://data.pr4e.org/authors.txt')\n",
        "count=dict()\n",
        "for line in x:\n",
        "  words=line.decode().split()\n",
        "  for word in words:\n",
        "    count[word]=count.get(word,0)+1\n",
        "print(count)"
      ],
      "metadata": {
        "colab": {
          "base_uri": "https://localhost:8080/"
        },
        "id": "fN6iP_vpG-c6",
        "outputId": "b9b937d8-376d-4fbf-d72e-3765e840832f"
      },
      "execution_count": 3,
      "outputs": [
        {
          "output_type": "stream",
          "name": "stdout",
          "text": [
            "{'English,Charles': 1, 'Severance': 1, 'English,Sue': 1, 'Blumenberg': 1, 'English,Elloitt': 1, 'Hauser': 1, 'Spanish,Fernando': 1, 'Tardío': 1, 'Muñiz': 1, 'Korean,Victor': 1, '(Kwangchun)': 1, 'Lee': 1, '(이광춘)': 1}\n"
          ]
        }
      ]
    },
    {
      "cell_type": "markdown",
      "source": [
        "Web Scrapping"
      ],
      "metadata": {
        "id": "xsvRuT_RIfOm"
      }
    },
    {
      "cell_type": "code",
      "source": [
        "pip install beautifulsoup4"
      ],
      "metadata": {
        "colab": {
          "base_uri": "https://localhost:8080/"
        },
        "id": "xwVuzkDQItq4",
        "outputId": "35b817d4-d20c-4e40-e84f-b7fcb2c3edb2"
      },
      "execution_count": 4,
      "outputs": [
        {
          "output_type": "stream",
          "name": "stdout",
          "text": [
            "Looking in indexes: https://pypi.org/simple, https://us-python.pkg.dev/colab-wheels/public/simple/\n",
            "Requirement already satisfied: beautifulsoup4 in /usr/local/lib/python3.7/dist-packages (4.6.3)\n"
          ]
        }
      ]
    },
    {
      "cell_type": "code",
      "source": [
        "import urllib.request, urllib.parse, urllib.error\n",
        "from bs4 import BeautifulSoup\n",
        "url= input('Enter URL:- ')\n",
        "html=urllib.request.urlopen(url).read()\n",
        "soup=BeautifulSoup(html,'html.parser')\n",
        "#Retrieve all of the anchor tags\n",
        "tags=soup('a')\n",
        "for tag in tags:\n",
        "  print(tag.get('href',None))"
      ],
      "metadata": {
        "id": "3FsBfOIhH3Fx"
      },
      "execution_count": null,
      "outputs": []
    },
    {
      "cell_type": "code",
      "source": [
        ""
      ],
      "metadata": {
        "id": "7Qg4RarHJ-B0"
      },
      "execution_count": null,
      "outputs": []
    }
  ]
}